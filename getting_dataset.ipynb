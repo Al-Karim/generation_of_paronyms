{
 "cells": [
  {
   "cell_type": "markdown",
   "metadata": {},
   "source": [
    "Скачивание всех зависимостей проекта"
   ]
  },
  {
   "cell_type": "code",
   "execution_count": 1,
   "metadata": {
    "colab": {
     "base_uri": "https://localhost:8080/"
    },
    "id": "cxJ0orJQwaaY",
    "outputId": "381efb0e-def3-4ad6-b13a-62cda1048418"
   },
   "outputs": [
    {
     "name": "stdout",
     "output_type": "stream",
     "text": [
      "Requirement already satisfied: annotated-types==0.6.0 in c:\\users\\carka\\anaconda3\\lib\\site-packages (from -r requirements.txt (line 1)) (0.6.0)\n",
      "Requirement already satisfied: anyio==4.3.0 in c:\\users\\carka\\anaconda3\\lib\\site-packages (from -r requirements.txt (line 2)) (4.3.0)\n",
      "Requirement already satisfied: catboost==1.2.3 in c:\\users\\carka\\anaconda3\\lib\\site-packages (from -r requirements.txt (line 3)) (1.2.3)\n",
      "Requirement already satisfied: click==8.1.7 in c:\\users\\carka\\anaconda3\\lib\\site-packages (from -r requirements.txt (line 4)) (8.1.7)\n",
      "Requirement already satisfied: contourpy==1.2.1 in c:\\users\\carka\\anaconda3\\lib\\site-packages (from -r requirements.txt (line 5)) (1.2.1)\n",
      "Requirement already satisfied: cycler==0.12.1 in c:\\users\\carka\\anaconda3\\lib\\site-packages (from -r requirements.txt (line 6)) (0.12.1)\n",
      "Requirement already satisfied: DAWG-Python==0.7.2 in c:\\users\\carka\\anaconda3\\lib\\site-packages (from -r requirements.txt (line 7)) (0.7.2)\n",
      "Requirement already satisfied: docopt==0.6.2 in c:\\users\\carka\\anaconda3\\lib\\site-packages (from -r requirements.txt (line 8)) (0.6.2)\n",
      "Requirement already satisfied: exceptiongroup==1.2.0 in c:\\users\\carka\\anaconda3\\lib\\site-packages (from -r requirements.txt (line 9)) (1.2.0)\n",
      "Requirement already satisfied: fastapi==0.110.1 in c:\\users\\carka\\anaconda3\\lib\\site-packages (from -r requirements.txt (line 10)) (0.110.1)\n",
      "Requirement already satisfied: fonttools==4.50.0 in c:\\users\\carka\\anaconda3\\lib\\site-packages (from -r requirements.txt (line 11)) (4.50.0)\n",
      "Requirement already satisfied: gensim==4.3.2 in c:\\users\\carka\\anaconda3\\lib\\site-packages (from -r requirements.txt (line 12)) (4.3.2)\n",
      "Requirement already satisfied: graphviz==0.20.3 in c:\\users\\carka\\anaconda3\\lib\\site-packages (from -r requirements.txt (line 13)) (0.20.3)\n",
      "Requirement already satisfied: h11==0.14.0 in c:\\users\\carka\\anaconda3\\lib\\site-packages (from -r requirements.txt (line 14)) (0.14.0)\n",
      "Requirement already satisfied: idna==3.6 in c:\\users\\carka\\anaconda3\\lib\\site-packages (from -r requirements.txt (line 15)) (3.6)\n",
      "Requirement already satisfied: joblib==1.3.2 in c:\\users\\carka\\anaconda3\\lib\\site-packages (from -r requirements.txt (line 16)) (1.3.2)\n",
      "Requirement already satisfied: kiwisolver==1.4.5 in c:\\users\\carka\\anaconda3\\lib\\site-packages (from -r requirements.txt (line 17)) (1.4.5)\n",
      "Requirement already satisfied: Levenshtein==0.25.0 in c:\\users\\carka\\anaconda3\\lib\\site-packages (from -r requirements.txt (line 18)) (0.25.0)\n",
      "Requirement already satisfied: matplotlib==3.8.4 in c:\\users\\carka\\anaconda3\\lib\\site-packages (from -r requirements.txt (line 19)) (3.8.4)\n",
      "Requirement already satisfied: numpy==1.26.4 in c:\\users\\carka\\anaconda3\\lib\\site-packages (from -r requirements.txt (line 20)) (1.26.4)\n",
      "Requirement already satisfied: packaging==24.0 in c:\\users\\carka\\anaconda3\\lib\\site-packages (from -r requirements.txt (line 21)) (24.0)\n",
      "Requirement already satisfied: pandas==2.2.1 in c:\\users\\carka\\anaconda3\\lib\\site-packages (from -r requirements.txt (line 22)) (2.2.1)\n",
      "Requirement already satisfied: pillow==10.3.0 in c:\\users\\carka\\anaconda3\\lib\\site-packages (from -r requirements.txt (line 23)) (10.3.0)\n",
      "Requirement already satisfied: plotly==5.20.0 in c:\\users\\carka\\anaconda3\\lib\\site-packages (from -r requirements.txt (line 24)) (5.20.0)\n",
      "Requirement already satisfied: pydantic==2.6.4 in c:\\users\\carka\\anaconda3\\lib\\site-packages (from -r requirements.txt (line 25)) (2.6.4)\n",
      "Requirement already satisfied: pydantic_core==2.16.3 in c:\\users\\carka\\anaconda3\\lib\\site-packages (from -r requirements.txt (line 26)) (2.16.3)\n",
      "Requirement already satisfied: pymorphy2==0.9.1 in c:\\users\\carka\\anaconda3\\lib\\site-packages (from -r requirements.txt (line 27)) (0.9.1)\n",
      "Requirement already satisfied: pymorphy2-dicts-ru==2.4.417127.4579844 in c:\\users\\carka\\anaconda3\\lib\\site-packages (from -r requirements.txt (line 28)) (2.4.417127.4579844)\n",
      "Requirement already satisfied: pyparsing==3.1.2 in c:\\users\\carka\\anaconda3\\lib\\site-packages (from -r requirements.txt (line 29)) (3.1.2)\n",
      "Requirement already satisfied: python-dateutil==2.9.0.post0 in c:\\users\\carka\\anaconda3\\lib\\site-packages (from -r requirements.txt (line 30)) (2.9.0.post0)\n",
      "Requirement already satisfied: pytz==2024.1 in c:\\users\\carka\\anaconda3\\lib\\site-packages (from -r requirements.txt (line 31)) (2024.1)\n",
      "Requirement already satisfied: rapidfuzz==3.7.0 in c:\\users\\carka\\anaconda3\\lib\\site-packages (from -r requirements.txt (line 32)) (3.7.0)\n",
      "Requirement already satisfied: scikit-learn==1.4.1.post1 in c:\\users\\carka\\anaconda3\\lib\\site-packages (from -r requirements.txt (line 33)) (1.4.1.post1)\n",
      "Requirement already satisfied: scipy==1.12.0 in c:\\users\\carka\\anaconda3\\lib\\site-packages (from -r requirements.txt (line 34)) (1.12.0)\n",
      "Requirement already satisfied: six==1.16.0 in c:\\users\\carka\\anaconda3\\lib\\site-packages (from -r requirements.txt (line 35)) (1.16.0)\n",
      "Requirement already satisfied: smart-open==7.0.4 in c:\\users\\carka\\anaconda3\\lib\\site-packages (from -r requirements.txt (line 36)) (7.0.4)\n",
      "Requirement already satisfied: sniffio==1.3.1 in c:\\users\\carka\\anaconda3\\lib\\site-packages (from -r requirements.txt (line 37)) (1.3.1)\n",
      "Requirement already satisfied: starlette==0.37.2 in c:\\users\\carka\\anaconda3\\lib\\site-packages (from -r requirements.txt (line 38)) (0.37.2)\n",
      "Requirement already satisfied: tenacity==8.2.3 in c:\\users\\carka\\anaconda3\\lib\\site-packages (from -r requirements.txt (line 39)) (8.2.3)\n",
      "Requirement already satisfied: threadpoolctl==3.4.0 in c:\\users\\carka\\anaconda3\\lib\\site-packages (from -r requirements.txt (line 40)) (3.4.0)\n",
      "Requirement already satisfied: typing_extensions==4.10.0 in c:\\users\\carka\\anaconda3\\lib\\site-packages (from -r requirements.txt (line 41)) (4.10.0)\n",
      "Requirement already satisfied: tzdata==2024.1 in c:\\users\\carka\\anaconda3\\lib\\site-packages (from -r requirements.txt (line 42)) (2024.1)\n",
      "Requirement already satisfied: uvicorn==0.29.0 in c:\\users\\carka\\anaconda3\\lib\\site-packages (from -r requirements.txt (line 43)) (0.29.0)\n",
      "Requirement already satisfied: wrapt==1.16.0 in c:\\users\\carka\\anaconda3\\lib\\site-packages (from -r requirements.txt (line 44)) (1.16.0)\n",
      "Requirement already satisfied: colorama in c:\\users\\carka\\anaconda3\\lib\\site-packages (from click==8.1.7->-r requirements.txt (line 4)) (0.4.6)\n"
     ]
    }
   ],
   "source": [
    "!pip install -r requirements.txt"
   ]
  },
  {
   "cell_type": "markdown",
   "metadata": {},
   "source": [
    "Импорт библиотек"
   ]
  },
  {
   "cell_type": "code",
   "execution_count": 10,
   "metadata": {
    "id": "I8S7weoJwl-8"
   },
   "outputs": [],
   "source": [
    "import numpy as np\n",
    "import pandas as pd\n",
    "\n",
    "import random\n",
    "import requests\n",
    "import json\n",
    "from bs4 import BeautifulSoup"
   ]
  },
  {
   "cell_type": "code",
   "execution_count": 11,
   "metadata": {},
   "outputs": [],
   "source": [
    "# конфигурация\n",
    "with open('config.json', 'r') as file:\n",
    "    config = json.load(file)\n",
    "\n",
    "data_path = config['data_path']\n",
    "data_url = config['data_url']"
   ]
  },
  {
   "cell_type": "code",
   "execution_count": 12,
   "metadata": {
    "id": "K9M4YEhbwq47"
   },
   "outputs": [],
   "source": [
    "paronyms = []\n",
    "\n",
    "# взятие паронимов с открытого ресурса\n",
    "ru_alphabet = [chr(i) for i in range(ord('А'), ord('А') + 32)]\n",
    "no_words = ['Ё', 'Й', 'Щ', 'Ъ', 'Ы', 'Ь']\n",
    "\n",
    "# Создаем множество всех слов из датасета паронимов\n",
    "all_words = set()\n",
    "\n",
    "for letter in ru_alphabet:\n",
    "    if letter in no_words:\n",
    "        continue\n",
    "    url = data_url + '/' + letter\n",
    "    html = requests.get(url)\n",
    "    soup = BeautifulSoup(html.content, 'html.parser')\n",
    "    arr = soup.find_all('a', href=True)[2:-27]  # Откидываем первые 2 и последние 27 элемента, которые есть на каждой странице\n",
    "    for elem in arr:\n",
    "        webpage = data_url + elem['href']\n",
    "        words = (elem.string).split(' — ')\n",
    "        paronyms.append([words[0], words[1], 1])  # пары слов - паронимы\n",
    "        paronyms.append([words[1], words[0], 1])  # пара в обратном порядке\n",
    "        all_words.update((words[0], words[1])) # Создаем множество всех слов из датасета паронимов"
   ]
  },
  {
   "cell_type": "code",
   "execution_count": 13,
   "metadata": {
    "colab": {
     "base_uri": "https://localhost:8080/"
    },
    "id": "o77cKk6IwtLZ",
    "outputId": "9f822d67-2fa7-44e5-ead5-ccba2bd60031"
   },
   "outputs": [
    {
     "name": "stdout",
     "output_type": "stream",
     "text": [
      "[['абонемент', 'абонент', 1], ['абонент', 'абонемент', 1], ['абстрактность', 'абстракция', 1], ['абстракция', 'абстрактность', 1], ['авантюрин', 'авантюрист', 1]]\n"
     ]
    }
   ],
   "source": [
    "# база данных с кортежами с меткой (1) - паронимы\n",
    "print(paronyms[:5])"
   ]
  },
  {
   "cell_type": "code",
   "execution_count": 14,
   "metadata": {
    "id": "A4f2UKVWSpI6"
   },
   "outputs": [],
   "source": [
    "data = pd.DataFrame(paronyms, columns=['word1', 'word2', 'label'])\n",
    "data.to_csv(\"only_paronyms.csv\")"
   ]
  },
  {
   "cell_type": "code",
   "execution_count": 15,
   "metadata": {
    "id": "uXz-p6YDXh9x"
   },
   "outputs": [],
   "source": [
    "# создание пар слов не паронимов путем перемешивания уже имеющихся слов\n",
    "def generate_non_paronyms(paronyms, seed = None, ratio = 1):\n",
    "\n",
    "    non_paronyms = []\n",
    "\n",
    "    if seed:\n",
    "      random.seed(seed)\n",
    "\n",
    "    # Случайные пары из множества всех слов\n",
    "    for _ in range(int(len(paronyms) * ratio )):\n",
    "        word1, word2 = random.choices(list(all_words), k=2)\n",
    "        if (word1 + ' ' + word2, 1) not in paronyms:\n",
    "          non_paronyms.append([word1, word2, 0])  # Метка 0, так как это непаронимы\n",
    "\n",
    "    return non_paronyms\n",
    "\n",
    "non_paronyms = generate_non_paronyms(paronyms, 42)"
   ]
  },
  {
   "cell_type": "code",
   "execution_count": 16,
   "metadata": {
    "colab": {
     "base_uri": "https://localhost:8080/"
    },
    "id": "iu5EPmdjXkbP",
    "outputId": "fcbf00ce-5d0d-46a2-c90b-6123c8724cf6"
   },
   "outputs": [
    {
     "name": "stdout",
     "output_type": "stream",
     "text": [
      "[['нафталин', 'обезлюдить', 0], ['целый', 'цельный', 1], ['вешала', 'фактор', 0], ['атавистичный', 'приобретательный', 0], ['сыскать', 'снискать', 1]]\n"
     ]
    }
   ],
   "source": [
    "dataset_par = paronyms + non_paronyms\n",
    "random.shuffle(dataset_par) # перемешивание датасета на всякий случай\n",
    "print(dataset_par[:5])"
   ]
  },
  {
   "cell_type": "code",
   "execution_count": 17,
   "metadata": {
    "id": "olzHKiJ0XnMI",
    "scrolled": true
   },
   "outputs": [],
   "source": [
    "data = pd.DataFrame(dataset_par, columns=['word1', 'word2', 'label'])\n",
    "data.to_csv(data_path)"
   ]
  },
  {
   "cell_type": "code",
   "execution_count": null,
   "metadata": {},
   "outputs": [],
   "source": []
  },
  {
   "cell_type": "code",
   "execution_count": null,
   "metadata": {},
   "outputs": [],
   "source": []
  },
  {
   "cell_type": "code",
   "execution_count": null,
   "metadata": {},
   "outputs": [],
   "source": []
  }
 ],
 "metadata": {
  "colab": {
   "provenance": []
  },
  "kernelspec": {
   "display_name": "Python 3 (ipykernel)",
   "language": "python",
   "name": "python3"
  },
  "language_info": {
   "codemirror_mode": {
    "name": "ipython",
    "version": 3
   },
   "file_extension": ".py",
   "mimetype": "text/x-python",
   "name": "python",
   "nbconvert_exporter": "python",
   "pygments_lexer": "ipython3",
   "version": "3.11.7"
  }
 },
 "nbformat": 4,
 "nbformat_minor": 4
}
